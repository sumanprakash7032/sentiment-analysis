{
 "cells": [
  {
   "cell_type": "code",
   "execution_count": 1,
   "metadata": {
    "scrolled": false
   },
   "outputs": [],
   "source": [
    "#code predict the output for our scrapped data\n",
    "import pandas as pd\n",
    "import _pickle as cPickle"
   ]
  },
  {
   "cell_type": "code",
   "execution_count": 2,
   "metadata": {},
   "outputs": [],
   "source": [
    "#import the data to be predicted\n",
    "df=pd.read_csv('data1.csv')"
   ]
  },
  {
   "cell_type": "code",
   "execution_count": 3,
   "metadata": {},
   "outputs": [
    {
     "data": {
      "text/plain": [
       "\"\\n  Phone looks absolutely top class. Will update this review after 7days of use.,Should have fingerprint sensor.\\n,\\n  Nice Smartphone In a Short budget....\\n,\\n  Vivo mobile battery life is very good rear camera is very good\\n,\\n  This handset is awesome look.,Nice product in low budget,Battery backup is to strong\\n,\\n  Charging very slow,And draining very fast like 2500 mah bttry,Buy for who don't use much\\n,\\n  I purchased Vivo 91 i recently and fully satisfied with its feature and price. Delivery person was very polite and Delivery service was within 2 days.\\n,\\n  Phone is good, but why my call waiting is not working..any body else faced this ?\\n,\\n  Lack of changing indicator is a major drawback in the Mobile.\\n\""
      ]
     },
     "execution_count": 3,
     "metadata": {},
     "output_type": "execute_result"
    }
   ],
   "source": [
    "#import the pickled file of our model\n",
    "file = open('model.pkl', 'rb')\n",
    "content = cPickle.load(file)\n",
    "file.close()\n",
    "df['reviews'][3]"
   ]
  },
  {
   "cell_type": "markdown",
   "metadata": {},
   "source": [
    "here we saw that we can split all the reviews by splitting on the base of new line "
   ]
  },
  {
   "cell_type": "code",
   "execution_count": 4,
   "metadata": {
    "scrolled": false
   },
   "outputs": [],
   "source": [
    "y2=[]   #keeps record of all reviews of all mobile phones\n",
    "for i in range(len(df['reviews'])):\n",
    "    if(type(df['reviews'][i])!=str):\n",
    "        df['reviews'][i]=str(df['reviews'][i])\n",
    "    review=df['reviews'][i].split(',\\n')       #split on basis of new line\n",
    "    y=(content.predict(review))\n",
    "    y1=[]\n",
    "    for j in y:                    # convert it into understandable form\n",
    "        if(j==0):\n",
    "            y1.append(\"very negative\")\n",
    "        if(j==1):\n",
    "            y1.append(\"negative\")\n",
    "        if(j==2):\n",
    "            y1.append(\"neutral\")\n",
    "        if(j==3):\n",
    "            y1.append(\"positive\")\n",
    "        if(j==4):\n",
    "            y1.append(\"very positive\")\n",
    "    y2.append(y1)\n",
    "df['sentiment']=y2\n",
    "df.to_csv('final.csv')  #final csv file\n",
    "df.to_excel('final.xlsx') #final exel file"
   ]
  },
  {
   "cell_type": "code",
   "execution_count": null,
   "metadata": {},
   "outputs": [],
   "source": []
  }
 ],
 "metadata": {
  "kernelspec": {
   "display_name": "Python 3",
   "language": "python",
   "name": "python3"
  },
  "language_info": {
   "codemirror_mode": {
    "name": "ipython",
    "version": 3
   },
   "file_extension": ".py",
   "mimetype": "text/x-python",
   "name": "python",
   "nbconvert_exporter": "python",
   "pygments_lexer": "ipython3",
   "version": "3.7.6"
  }
 },
 "nbformat": 4,
 "nbformat_minor": 4
}
