{
 "cells": [
  {
   "cell_type": "markdown",
   "metadata": {},
   "source": [
    "code to extract different train and test data"
   ]
  },
  {
   "cell_type": "code",
   "execution_count": 2,
   "metadata": {},
   "outputs": [],
   "source": [
    "#import libraries\n",
    "import sys\n",
    "import importlib\n",
    "importlib.reload(sys)\n",
    "\n",
    "import pandas as pd\n",
    "\n",
    "\n",
    "\n"
   ]
  },
  {
   "cell_type": "code",
   "execution_count": 3,
   "metadata": {},
   "outputs": [],
   "source": [
    "#read all text using SOStr.txt data\n",
    "def read_text():\n",
    "    ifname ='stanfordSentimentTreebank/SOStr.txt'\n",
    "    lines = open(ifname, 'r',encoding=\"utf8\").read().split('\\n')\n",
    "\n",
    "    texts = []\n",
    "    for line in lines:\n",
    "        params = line.split('|')\n",
    "        if len(params) > 1:\n",
    "            text = ' '.join(params)\n",
    "            texts.append(text)\n",
    "\n",
    "    return texts"
   ]
  },
  {
   "cell_type": "code",
   "execution_count": 4,
   "metadata": {},
   "outputs": [],
   "source": [
    "#read the labels for splitting of data into training and testing\n",
    "def read_splitlabel():\n",
    "    ifname = 'stanfordSentimentTreebank/datasetSplit.txt'\n",
    "    lines = open(ifname, 'r',encoding=\"utf8\").read().split('\\n')\n",
    "\n",
    "    splitlabels = []\n",
    "    for line in lines[1:]:\n",
    "        params = line.split(',')\n",
    "        if len(params) == 2:\n",
    "            splitlabels.append(int(params[1]))\n",
    "    \n",
    "    return splitlabels"
   ]
  },
  {
   "cell_type": "code",
   "execution_count": 5,
   "metadata": {},
   "outputs": [],
   "source": [
    "#read the sentiment labela for different phrase id\n",
    "def read_sentiscore():\n",
    "    ifname =  'stanfordSentimentTreebank/sentiment_labels.txt'\n",
    "    lines = open(ifname, 'r',encoding=\"utf8\").read().split('\\n')\n",
    "\n",
    "    sentiscores = []\n",
    "    for line in lines[1:]:\n",
    "        params = line.split('|')\n",
    "        if len(params) == 2:\n",
    "            sentiscores.append(float(params[1]))\n",
    "\n",
    "    return sentiscores"
   ]
  },
  {
   "cell_type": "code",
   "execution_count": 6,
   "metadata": {},
   "outputs": [],
   "source": [
    "#read the phrase ids\n",
    "def read_phraseid():\n",
    "    ifname =  'stanfordSentimentTreebank/dictionary.txt'\n",
    "    lines = open(ifname, 'r',encoding=\"utf8\").read().split('\\n')\n",
    "\n",
    "    phraseid = {}\n",
    "    for line in lines:\n",
    "        params = line.split('|')\n",
    "        if len(params) == 2:\n",
    "            phraseid[params[0]] = int(params[1])\n",
    "\n",
    "    return phraseid"
   ]
  },
  {
   "cell_type": "code",
   "execution_count": 7,
   "metadata": {},
   "outputs": [],
   "source": [
    "#prepare data\n",
    "def prepare_valence():\n",
    "    def labelize(x,label):\n",
    "        y = []\n",
    "        for l in label:\n",
    "            if l <= 0.2:\n",
    "                y.append(0)\n",
    "            elif l <= 0.4:\n",
    "                y.append(1)\n",
    "            elif l <= 0.6:\n",
    "                y.append(2)\n",
    "            elif l <= 0.8:\n",
    "                y.append(3)\n",
    "            else:\n",
    "                y.append(4)\n",
    "\n",
    "        print (len(y))\n",
    "        return (x, y)\n",
    "    texts = read_text()\n",
    "    splitlabels = read_splitlabel()\n",
    "    sentiscores = read_sentiscore()\n",
    "    phraseid = read_phraseid()\n",
    "\n",
    "    train_text = []\n",
    "    train_label = []\n",
    "    \n",
    "    valid_text = []\n",
    "    valid_label = []\n",
    "\n",
    "    test_text = []\n",
    "    test_label = []\n",
    "\n",
    "    n_sample = len(texts)\n",
    "    if n_sample == len(splitlabels) and len(sentiscores) == len(phraseid):\n",
    "        print ('%d samples'%(n_sample))\n",
    "    else:\n",
    "        print ('reading fail')\n",
    "\n",
    "    for i, didx in enumerate(splitlabels):\n",
    "        if didx == 1:\n",
    "            list_text = train_text\n",
    "            list_label = train_label\n",
    "        elif didx == 3:\n",
    "            list_text = valid_text\n",
    "            list_label = valid_label\n",
    "        elif didx == 2:\n",
    "            list_text = test_text\n",
    "            list_label = test_label\n",
    "\n",
    "        list_text.append(texts[i])\n",
    "        list_label.append(sentiscores[phraseid[texts[i]]])\n",
    "    a1,a2=labelize(train_text, train_label)\n",
    "    a3,a4=labelize(valid_text, valid_label)\n",
    "    a5,a6=labelize(test_text, test_label)\n",
    "    \n",
    "    pd.DataFrame({'text':a1,'label':a2}).to_csv('train.csv')\n",
    "    pd.DataFrame({'text':a3,'label':a4}).to_csv('val.csv')\n",
    "    pd.DataFrame({'text':a5,'label':a6}).to_csv('test.csv')\n",
    "    \n"
   ]
  },
  {
   "cell_type": "code",
   "execution_count": 8,
   "metadata": {},
   "outputs": [
    {
     "name": "stdout",
     "output_type": "stream",
     "text": [
      "11855 samples\n",
      "8544\n",
      "1101\n",
      "2210\n"
     ]
    }
   ],
   "source": [
    "def main():\n",
    "    prepare_valence()\n",
    "\n",
    "\n",
    "\n",
    "if __name__ == '__main__':\n",
    "    main()"
   ]
  },
  {
   "cell_type": "code",
   "execution_count": null,
   "metadata": {},
   "outputs": [],
   "source": []
  }
 ],
 "metadata": {
  "kernelspec": {
   "display_name": "Python 3",
   "language": "python",
   "name": "python3"
  },
  "language_info": {
   "codemirror_mode": {
    "name": "ipython",
    "version": 3
   },
   "file_extension": ".py",
   "mimetype": "text/x-python",
   "name": "python",
   "nbconvert_exporter": "python",
   "pygments_lexer": "ipython3",
   "version": "3.7.6"
  }
 },
 "nbformat": 4,
 "nbformat_minor": 4
}
